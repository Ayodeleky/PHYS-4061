{
  "nbformat": 4,
  "nbformat_minor": 0,
  "metadata": {
    "colab": {
      "provenance": [],
      "authorship_tag": "ABX9TyNE7P2VOc7AXHNBu+bURele",
      "include_colab_link": true
    },
    "kernelspec": {
      "name": "python3",
      "display_name": "Python 3"
    },
    "language_info": {
      "name": "python"
    }
  },
  "cells": [
    {
      "cell_type": "markdown",
      "metadata": {
        "id": "view-in-github",
        "colab_type": "text"
      },
      "source": [
        "<a href=\"https://colab.research.google.com/github/Ayodeleky/PHYS-4061/blob/main/Homework3.ipynb\" target=\"_parent\"><img src=\"https://colab.research.google.com/assets/colab-badge.svg\" alt=\"Open In Colab\"/></a>"
      ]
    },
    {
      "cell_type": "code",
      "execution_count": 29,
      "metadata": {
        "colab": {
          "base_uri": "https://localhost:8080/"
        },
        "id": "yaaP8M1dl4ak",
        "outputId": "9f6dd035-20b3-481a-c64c-31043f4f721f"
      },
      "outputs": [
        {
          "output_type": "stream",
          "name": "stdout",
          "text": [
            "range(384348305128205, 384350305128205, 2000000)\n",
            "The phase is 0.595181661401195\n"
          ]
        }
      ],
      "source": [
        "from re import L\n",
        "#An Etalon is formed by a YAG crystal 27.0 mm in length. \n",
        "#Using Python, plot the transmission as a function of frequency for a laser at 780 nm scanning across 20 GHz. \n",
        "#What is the FSR and Finesse of the etalon?\n",
        "\n",
        "\n",
        "\n",
        "import numpy as np\n",
        "import math \n",
        "import matplotlib.pyplot as plt\n",
        "import scipy.constants as cnst\n",
        "\n",
        "c= cnst.c\n",
        "pi = cnst.pi\n",
        "\n",
        "n_YAG = 1.81523\n",
        "n_air= 1.0000\n",
        "l= 27.0*(10**3)\n",
        "wvlth= 780*(10**-9)\n",
        "freq= 20*(10**9)\n",
        "R= (1-(n_air/n_YAG))/1+(n_air/n_YAG)\n",
        "r= np.sqrt(R)\n",
        "FSR= c/2*l\n",
        "\n",
        "Finesse= (pi*np.sqrt(R))/1-r\n",
        "\n",
        "\n",
        "\n",
        "\n",
        "#In order to plot transmission as a function of frequency we must first define the range our frequencies will span over\n",
        "\n",
        "freq_0= int(c/wvlth)\n",
        "delta_freq= int(10**9)\n",
        "numsteps_freq= 1000\n",
        "step_func= int(2*delta_freq/numsteps_freq)\n",
        "\n",
        "freq_range= range(freq_0-delta_freq,freq_0+delta_freq,step_func)\n",
        "\n",
        "print(freq_range)\n",
        "\n",
        "#We first have to define the varibles which will be used in our transmission frequency function\n",
        "N=0\n",
        "W= l/wvlth\n",
        "phi= (2*N)+1+W*pi\n",
        "phase= math.cos(phi)\n",
        "print('The phase is',phase)\n",
        "\n",
        "#Now we will define the function for the transmissions at the relevant frequency\n",
        "def Transmission(freq):\n",
        "  Etalon_img =0\n",
        "  for i in range(N):\n",
        "    Etalon_img= Etalon_img + (r**(2*(N-1)))*phase\n",
        "    return Etalon_img\n",
        "\n",
        "\n"
      ]
    }
  ]
}