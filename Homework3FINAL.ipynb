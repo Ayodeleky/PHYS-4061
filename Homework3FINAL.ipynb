{
  "nbformat": 4,
  "nbformat_minor": 0,
  "metadata": {
    "colab": {
      "provenance": [],
      "collapsed_sections": [],
      "authorship_tag": "ABX9TyMcpwgylOnbO4f6Y/le+fi9",
      "include_colab_link": true
    },
    "kernelspec": {
      "name": "python3",
      "display_name": "Python 3"
    },
    "language_info": {
      "name": "python"
    }
  },
  "cells": [
    {
      "cell_type": "markdown",
      "metadata": {
        "id": "view-in-github",
        "colab_type": "text"
      },
      "source": [
        "<a href=\"https://colab.research.google.com/github/Ayodeleky/PHYS-4061/blob/main/Homework3FINAL.ipynb\" target=\"_parent\"><img src=\"https://colab.research.google.com/assets/colab-badge.svg\" alt=\"Open In Colab\"/></a>"
      ]
    },
    {
      "cell_type": "code",
      "execution_count": 147,
      "metadata": {
        "colab": {
          "base_uri": "https://localhost:8080/"
        },
        "id": "yaaP8M1dl4ak",
        "outputId": "6429b410-f58d-4be4-f7d2-4684b3f05db0"
      },
      "outputs": [
        {
          "output_type": "stream",
          "name": "stdout",
          "text": [
            "The value of R is 0.28957847138599685\n",
            "The value of r is 0.5381249588952336\n",
            "FSR = 4047198183000.0\n",
            "Finesse = 1.1524444586833416\n",
            "The range of frequencies is given by: [384348305128205 384348307128205 384348309128205 ... 384350301128205\n",
            " 384350303128205            1000]\n",
            "844.9622147451902\n",
            "The transmission at frquency 384348307128205 is 844.9622147451902\n",
            "The transmission at frquency 384348357128205 is 844.9622147451902\n"
          ]
        }
      ],
      "source": [
        "from re import L\n",
        "#An Etalon is formed by a YAG crystal 27.0 mm in length. \n",
        "#Using Python, plot the transmission as a function of frequency for a laser at 780 nm scanning across 20 GHz. \n",
        "#What is the FSR and Finesse of the etalon?\n",
        "\n",
        "\n",
        "\n",
        "import numpy as np\n",
        "import math \n",
        "import matplotlib.pyplot as plt\n",
        "import scipy.constants as cnst\n",
        "\n",
        "#We must first define the variables that will be used to calculate our data. These variables are defined below:\n",
        "\n",
        "c= cnst.c\n",
        "pi = cnst.pi\n",
        "#The refractive index of YAG crystal\n",
        "n_YAG = 1.81523\n",
        "\n",
        "n_air= 1.0000\n",
        "#Length of crystal\n",
        "length= 27.0*(10**3)\n",
        "\n",
        "#Wavelength of laser\n",
        "wvlth= 780*(10**-9)\n",
        "\n",
        "#Scanning Frequency\n",
        "freq= 20*(10**9)\n",
        "\n",
        "R= (1-(n_air/n_YAG))/(1+(n_air/n_YAG))\n",
        "print('The value of R is', R)\n",
        "r= np.sqrt(R)\n",
        "print('The value of r is', r)\n",
        "#Using the above data we the FSR is determined to be:\n",
        "FSR= c/2*l\n",
        "print('FSR =', FSR)\n",
        "#Using the results from above we can therefore calculate the finesse as seen below:\n",
        "Finesse= (pi*np.sqrt(R))/1-r\n",
        "print('Finesse =',Finesse)\n",
        "\n",
        "\n",
        "\n",
        "#In order to plot transmission as a function of frequency we must first define the range our frequencies will span over. This is done as shown below:\n",
        "\n",
        "freq_0= int(c/wvlth)\n",
        "delta_freq= int(10**9)\n",
        "numsteps_freq= 1000\n",
        "step_func= int((2*delta_freq)/numsteps_freq)\n",
        "\n",
        "freq_range= range(freq_0-delta_freq,freq_0+delta_freq,step_func)\n",
        "freq_list= np.append(freq_range,numsteps_freq)\n",
        "print('The range of frequencies is given by:',freq_list)\n",
        "\n",
        "\n",
        "#Now we will define the function for the transmissions at various frequencies\n",
        "N=1000\n",
        "A=1\n",
        "list_of_E = []\n",
        "\n",
        "for i in freq_list:\n",
        "    t_1=1+i\n",
        "    W= (length/c)+i\n",
        "    phi= W*(2*N)*pi\n",
        "    phase= math.cos(phi)\n",
        "    Etalon_img = 0\n",
        "    trans_term= (t_1)*A*phase\n",
        "    Etalon_next= Etalon_img + trans_term\n",
        "\n",
        "def Transmission(freq):\n",
        "  Etalon_img_0= 0\n",
        "  Trans_val= Etalon_img + Etalon_next\n",
        "  return Trans_val\n",
        "\n",
        "print(Transmission(freq_range[1:500]))      \n",
        "print('The transmission at frequency',freq_range[1],'is',Transmission(freq_range[1]))\n",
        "print('The transmission at frequency',freq_range[26],'is',Transmission(freq_range[26]))\n",
        "\n",
        "\n",
        "#plt.plot(Transmission(freq_range),freq_list)\n",
        "plt.show()"
      ]
    }
  ]
}